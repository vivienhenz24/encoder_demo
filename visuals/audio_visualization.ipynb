{
  "cells": [
    {
      "cell_type": "markdown",
      "metadata": {},
      "source": [
        "# Audio Watermark Visualization\n",
        "\n",
        "This notebook visualizes the audio waveform and frequency spectrum to show how the watermark is embedded in the frequency domain.\n",
        "\n",
        "## Setup\n",
        "First, let's import our dependencies and load the audio files.\n"
      ]
    },
    {
      "cell_type": "code",
      "execution_count": null,
      "metadata": {},
      "outputs": [],
      "source": [
        "import numpy as np\n",
        "import matplotlib.pyplot as plt\n",
        "from scipy.io import wavfile\n",
        "from scipy.fft import rfft, rfftfreq\n",
        "import os\n",
        "\n",
        "# Set up plotting style\n",
        "plt.style.use('seaborn-v0_8-darkgrid')\n",
        "plt.rcParams['figure.figsize'] = (14, 8)\n",
        "plt.rcParams['font.size'] = 10\n"
      ]
    },
    {
      "cell_type": "markdown",
      "metadata": {},
      "source": [
        "## Load Audio Files\n",
        "Load both the original and watermarked audio files for comparison.\n"
      ]
    },
    {
      "cell_type": "code",
      "execution_count": null,
      "metadata": {},
      "outputs": [],
      "source": [
        "# File paths\n",
        "original_path = '../input_data/OSR_us_000_0057_8k.wav'\n",
        "watermarked_path = '../output_data/OSR_us_000_0057_8k_watermarked.wav'\n",
        "\n",
        "# Load audio files\n",
        "sample_rate_orig, audio_orig = wavfile.read(original_path)\n",
        "sample_rate_wm, audio_wm = wavfile.read(watermarked_path)\n",
        "\n",
        "# Normalize to [-1, 1]\n",
        "audio_orig_norm = audio_orig.astype(np.float32) / 32768.0\n",
        "audio_wm_norm = audio_wm.astype(np.float32) / 32768.0\n",
        "\n",
        "print(f\"Original audio: {len(audio_orig)} samples at {sample_rate_orig} Hz\")\n",
        "print(f\"Watermarked audio: {len(audio_wm)} samples at {sample_rate_wm} Hz\")\n",
        "print(f\"Duration: {len(audio_orig) / sample_rate_orig:.2f} seconds\")\n"
      ]
    },
    {
      "cell_type": "markdown",
      "metadata": {},
      "source": [
        "## 1. Time-Domain Waveform Comparison\n",
        "Visualize the raw audio signal in the time domain. The watermark should be nearly invisible in this view.\n"
      ]
    }
  ],
  "metadata": {
    "language_info": {
      "name": "python"
    }
  },
  "nbformat": 4,
  "nbformat_minor": 2
}
